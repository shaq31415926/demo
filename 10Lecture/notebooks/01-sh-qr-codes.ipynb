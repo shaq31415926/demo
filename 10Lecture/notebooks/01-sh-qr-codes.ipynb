{
 "cells": [
  {
   "cell_type": "code",
   "execution_count": 2,
   "id": "a6ee8b5f-b892-4915-bc21-4e03734d2469",
   "metadata": {},
   "outputs": [],
   "source": [
    "import segno"
   ]
  },
  {
   "cell_type": "code",
   "execution_count": 6,
   "id": "3ac7d22f-6dde-42ef-95f9-8d0fed672784",
   "metadata": {},
   "outputs": [
    {
     "data": {
      "text/plain": [
       "<segno.QRCode at 0x1117a7650>"
      ]
     },
     "execution_count": 6,
     "metadata": {},
     "output_type": "execute_result"
    }
   ],
   "source": [
    "# code to make the qr code with some content you want to encode\n",
    "\n",
    "qrcode = segno.make_qr(\"https://www.youtube.com/watch?v=mkgylOJSdhE\")\n",
    "qrcode"
   ]
  },
  {
   "cell_type": "code",
   "execution_count": 7,
   "id": "958fedfe-cef2-4b40-9726-0d251503833d",
   "metadata": {},
   "outputs": [
    {
     "data": {
      "image/jpeg": "[encoded data removed]",
      "image/png": "[encoded data removed]",
      "text/plain": [
       "<PIL.PngImagePlugin.PngImageFile image mode=1 size=37x37>"
      ]
     },
     "execution_count": 7,
     "metadata": {},
     "output_type": "execute_result"
    }
   ],
   "source": [
    "qrcode.to_pil()"
   ]
  },
  {
   "cell_type": "code",
   "execution_count": 8,
   "id": "759c4321-1f76-48f4-b94d-cfd410dc04d2",
   "metadata": {},
   "outputs": [],
   "source": [
    "# code to save the qr cpde\n",
    "\n",
    "qrcode.save(\"../images/qrcode1.png\")"
   ]
  },
  {
   "cell_type": "code",
   "execution_count": 15,
   "id": "54bf9edc-8139-4b88-80e9-ea2622a31733",
   "metadata": {},
   "outputs": [
    {
     "data": {
      "image/jpeg": "[encoded data removed]",
      "image/png": "[encoded data removed]",
      "text/plain": [
       "<PIL.PngImagePlugin.PngImageFile image mode=1 size=185x185>"
      ]
     },
     "execution_count": 15,
     "metadata": {},
     "output_type": "execute_result"
    }
   ],
   "source": [
    "# add the scale parameter to resize the qr code\n",
    "\n",
    "qrcode.to_pil(scale=5)"
   ]
  },
  {
   "cell_type": "code",
   "execution_count": 16,
   "id": "9e5b9140-dc68-4605-bf68-05ad49ecda43",
   "metadata": {},
   "outputs": [],
   "source": [
    "qrcode.to_pil(scale=5).save(\"../images/qrcode2.png\")"
   ]
  },
  {
   "cell_type": "code",
   "execution_count": 25,
   "id": "a7ca9291-7db7-43e3-91cd-86501829328c",
   "metadata": {},
   "outputs": [
    {
     "data": {
      "image/png": "[encoded data removed]",
      "text/plain": [
       "<PIL.PngImagePlugin.PngImageFile image mode=P size=370x370>"
      ]
     },
     "execution_count": 25,
     "metadata": {},
     "output_type": "execute_result"
    }
   ],
   "source": [
    "# change the colours of the qr code\n",
    "# the dark parameter changes the colour of the black modules and the light paramater changes the colour of the white modules\n",
    "qrcode.to_pil(scale=10, dark=\"white\", light=\"yellow\") "
   ]
  },
  {
   "cell_type": "code",
   "execution_count": 26,
   "id": "9812e148-d57c-43be-87d7-a518d757b708",
   "metadata": {},
   "outputs": [],
   "source": [
    "qrcode.to_pil(scale=10, dark=\"white\", light=\"yellow\").save(\"../images/qrcode3.png\")"
   ]
  },
  {
   "cell_type": "code",
   "execution_count": 27,
   "id": "a07704c5-3e06-4da5-824f-7fac31db793d",
   "metadata": {},
   "outputs": [
    {
     "data": {
      "image/png": "[encoded data removed]",
      "text/plain": [
       "<PIL.PngImagePlugin.PngImageFile image mode=P size=185x185>"
      ]
     },
     "execution_count": 27,
     "metadata": {},
     "output_type": "execute_result"
    }
   ],
   "source": [
    "qrcode.to_pil(scale=5, dark=\"#0000ffcc\")"
   ]
  },
  {
   "cell_type": "code",
   "execution_count": 34,
   "id": "bb782674-d8ad-427f-8a27-0102f268d05c",
   "metadata": {},
   "outputs": [
    {
     "data": {
      "image/png": "[encoded data removed]",
      "text/plain": [
       "<PIL.PngImagePlugin.PngImageFile image mode=P size=145x145>"
      ]
     },
     "execution_count": 34,
     "metadata": {},
     "output_type": "execute_result"
    }
   ],
   "source": [
    "qrcode.to_pil(scale=5, \n",
    "              dark=\"#0000ffcc\",\n",
    "              light=\"red\",\n",
    "              border=0) # to remove the border around the modules you can specify border=0"
   ]
  },
  {
   "cell_type": "code",
   "execution_count": 35,
   "id": "e7c4e5e0-3137-41ce-a2c4-606939352f2b",
   "metadata": {},
   "outputs": [],
   "source": [
    "qrcode.to_pil(scale=5, \n",
    "              dark=\"#0000ffcc\",\n",
    "              light=\"red\",\n",
    "              border=0).save(\"../images/qrcode4.png\")"
   ]
  },
  {
   "cell_type": "code",
   "execution_count": 36,
   "id": "b19417ed-bbb1-4422-8171-37ef63095177",
   "metadata": {},
   "outputs": [
    {
     "data": {
      "image/jpeg": "[encoded data removed]",
      "image/png": "[encoded data removed]",
      "text/plain": [
       "<PIL.Image.Image image mode=1 size=37x37>"
      ]
     },
     "execution_count": 36,
     "metadata": {},
     "output_type": "execute_result"
    }
   ],
   "source": [
    "# you can also rotate the qr code\n",
    "\n",
    "qrcode.to_pil().rotate(45)"
   ]
  },
  {
   "cell_type": "code",
   "execution_count": 40,
   "id": "e65408c7-a979-43fd-bcfa-d506c4ee4382",
   "metadata": {},
   "outputs": [
    {
     "data": {
      "image/png": "[encoded data removed]",
      "text/plain": [
       "<PIL.Image.Image image mode=P size=185x185>"
      ]
     },
     "execution_count": 40,
     "metadata": {},
     "output_type": "execute_result"
    }
   ],
   "source": [
    "qrcode.to_pil(scale=5,\n",
    "             dark=\"#0000ffcc\",\n",
    "             light=\"pink\"\n",
    "             ).rotate(45)"
   ]
  },
  {
   "cell_type": "code",
   "execution_count": 43,
   "id": "606bc9c1-e194-40ac-ab33-fa3280c7e6f9",
   "metadata": {},
   "outputs": [
    {
     "data": {
      "image/png": "[encoded data removed]",
      "text/plain": [
       "<PIL.Image.Image image mode=P size=263x263>"
      ]
     },
     "execution_count": 43,
     "metadata": {},
     "output_type": "execute_result"
    }
   ],
   "source": [
    "# to prevent the qr code from being truncated add expand = True\n",
    "\n",
    "qrcode.to_pil(scale=5,\n",
    "             dark=\"yellow\",\n",
    "             light=\"blue\"\n",
    "             ).rotate(45, expand=True)"
   ]
  },
  {
   "cell_type": "code",
   "execution_count": 44,
   "id": "03513eb1-1ba7-4533-a03d-937f3c54d925",
   "metadata": {},
   "outputs": [],
   "source": [
    "qrcode.to_pil(scale=5,\n",
    "             dark=\"yellow\",\n",
    "             light=\"blue\"\n",
    "             ).rotate(45, expand=True).save(\"../images/qrcode_rotated.png\")"
   ]
  },
  {
   "cell_type": "code",
   "execution_count": 59,
   "id": "fc0a3579-8af3-4220-936d-94cb6646c364",
   "metadata": {},
   "outputs": [
    {
     "data": {
      "image/jpeg": "[encoded data removed]",
      "image/png": "[encoded data removed]",
      "text/plain": [
       "<PIL.PngImagePlugin.PngImageFile image mode=1 size=37x37>"
      ]
     },
     "execution_count": 59,
     "metadata": {},
     "output_type": "execute_result"
    }
   ],
   "source": [
    "# creating a new qr code to encode the youtube link with the song smells like teen spirit\n",
    "\n",
    "qrcode = segno.make_qr(\"https://www.youtube.com/watch?v=hTWKbfoikeg\")\n",
    "qrcode.to_pil()"
   ]
  },
  {
   "cell_type": "code",
   "execution_count": 60,
   "id": "197eefab-e490-4bbb-94be-6b7ec43f8340",
   "metadata": {},
   "outputs": [],
   "source": [
    "# open a giphy\n",
    "\n",
    "from urllib.request import urlopen\n",
    "\n",
    "nirvana_url = urlopen(\"https://i.giphy.com/media/v1.Y2lkPTc5MGI3NjExdXhvMDRibm5uYXM3djM1ZTM5M2JvODBtandveDlvZnppaXN5a3FjYyZlcD12MV9pbnRlcm5hbF9naWZfYnlfaWQmY3Q9Zw/YL22XrEjlKU4yZTfEx/giphy.gif\")"
   ]
  },
  {
   "cell_type": "code",
   "execution_count": 61,
   "id": "54ccecc0-c9a2-4797-a922-533cf8c4c3f9",
   "metadata": {},
   "outputs": [],
   "source": [
    "# use the to artistic method to place the giphy as the qr code background\n",
    "\n",
    "qrcode.to_artistic(background=nirvana_url,\n",
    "                  target=\"../images/slts.gif\",\n",
    "                  scale=10)"
   ]
  },
  {
   "cell_type": "code",
   "execution_count": null,
   "id": "219f2103-7940-4452-9325-c42b6d265219",
   "metadata": {},
   "outputs": [],
   "source": []
  }
 ],
 "metadata": {
  "kernelspec": {
   "display_name": "Python 3 (ipykernel)",
   "language": "python",
   "name": "python3"
  },
  "language_info": {
   "codemirror_mode": {
    "name": "ipython",
    "version": 3
   },
   "file_extension": ".py",
   "mimetype": "text/x-python",
   "name": "python",
   "nbconvert_exporter": "python",
   "pygments_lexer": "ipython3",
   "version": "3.12.3"
  }
 },
 "nbformat": 4,
 "nbformat_minor": 5
}
