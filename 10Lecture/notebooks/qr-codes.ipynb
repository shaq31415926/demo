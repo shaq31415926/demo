{
 "cells": [
  {
   "cell_type": "code",
   "execution_count": 1,
   "id": "4a8f7c21",
   "metadata": {},
   "outputs": [],
   "source": [
    "import segno\n",
    "from urllib.request import urlopen"
   ]
  },
  {
   "cell_type": "code",
   "execution_count": 2,
   "id": "251ff2b3",
   "metadata": {},
   "outputs": [
    {
     "name": "stdout",
     "output_type": "stream",
     "text": [
      "zsh:1: command not found: pip\n"
     ]
    }
   ],
   "source": [
    "! pip install pillow"
   ]
  },
  {
   "cell_type": "code",
   "execution_count": 3,
   "id": "90162f71",
   "metadata": {},
   "outputs": [
    {
     "data": {
      "text/plain": [
       "<segno.QRCode at 0x105e5ff60>"
      ]
     },
     "execution_count": 3,
     "metadata": {},
     "output_type": "execute_result"
    }
   ],
   "source": [
    "# create the qr code\n",
    "qrcode = segno.make(\"https://mystudy.leuphana.de/portal/home?error=true\")\n",
    "qrcode"
   ]
  },
  {
   "cell_type": "code",
   "execution_count": 4,
   "id": "af89d7dc",
   "metadata": {},
   "outputs": [
    {
     "data": {
      "image/jpeg": "[encoded data removed]",
      "image/png": "[encoded data removed]",
      "text/plain": [
       "<PIL.PngImagePlugin.PngImageFile image mode=1 size=37x37>"
      ]
     },
     "execution_count": 4,
     "metadata": {},
     "output_type": "execute_result"
    }
   ],
   "source": [
    "# view the qr code\n",
    "# if this doesnt work, skip to next block\n",
    "\n",
    "qrcode.to_pil()"
   ]
  },
  {
   "cell_type": "code",
   "execution_count": 5,
   "id": "5745c9e8",
   "metadata": {},
   "outputs": [],
   "source": [
    "# save the qr code\n",
    "\n",
    "qrcode.save('../images/my_firt_qrcode.png')\n",
    "\n",
    "# check the code was saved"
   ]
  },
  {
   "cell_type": "code",
   "execution_count": 6,
   "id": "dbc2ac9c",
   "metadata": {},
   "outputs": [],
   "source": [
    "qrcode.to_pil(scale = 5)\n",
    "qrcode.save('../images/my_scaled_qrcode.png', scale = 5) # code to the qr code"
   ]
  },
  {
   "cell_type": "code",
   "execution_count": 7,
   "id": "8086ab4c",
   "metadata": {},
   "outputs": [
    {
     "data": {
      "image/png": "[encoded data removed]",
      "text/plain": [
       "<PIL.PngImagePlugin.PngImageFile image mode=P size=370x370>"
      ]
     },
     "execution_count": 7,
     "metadata": {},
     "output_type": "execute_result"
    }
   ],
   "source": [
    "# change the colours of the black dots and squares\n",
    "\n",
    "qrcode.to_pil(dark='#0000ffcc', scale=10)"
   ]
  },
  {
   "cell_type": "code",
   "execution_count": 8,
   "id": "6f2ae33b",
   "metadata": {},
   "outputs": [
    {
     "data": {
      "image/png": "[encoded data removed]",
      "text/plain": [
       "<PIL.PngImagePlugin.PngImageFile image mode=P size=370x370>"
      ]
     },
     "execution_count": 8,
     "metadata": {},
     "output_type": "execute_result"
    }
   ],
   "source": [
    "qrcode.to_pil(dark='blue', scale=10)"
   ]
  },
  {
   "cell_type": "code",
   "execution_count": 9,
   "id": "6b07f876",
   "metadata": {},
   "outputs": [
    {
     "data": {
      "image/png": "[encoded data removed]",
      "text/plain": [
       "<PIL.PngImagePlugin.PngImageFile image mode=P size=185x185>"
      ]
     },
     "execution_count": 9,
     "metadata": {},
     "output_type": "execute_result"
    }
   ],
   "source": [
    "# change the colour of the background \n",
    "\n",
    "qrcode.to_pil(light='lightgreen', scale=5)"
   ]
  },
  {
   "cell_type": "code",
   "execution_count": 10,
   "id": "aaef320a",
   "metadata": {},
   "outputs": [
    {
     "data": {
      "image/png": "[encoded data removed]",
      "text/plain": [
       "<PIL.PngImagePlugin.PngImageFile image mode=P size=259x259>"
      ]
     },
     "execution_count": 10,
     "metadata": {},
     "output_type": "execute_result"
    }
   ],
   "source": [
    "# change the colour of the background and the dark part\n",
    "# this does not work\n",
    "\n",
    "qrcode.to_pil(dark='white', light='yellow', scale=7)"
   ]
  },
  {
   "cell_type": "code",
   "execution_count": 11,
   "id": "134f1ead",
   "metadata": {},
   "outputs": [
    {
     "data": {
      "image/png": "[encoded data removed]",
      "text/plain": [
       "<PIL.PngImagePlugin.PngImageFile image mode=P size=155x155>"
      ]
     },
     "execution_count": 11,
     "metadata": {},
     "output_type": "execute_result"
    }
   ],
   "source": [
    "# adjust the border\n",
    "\n",
    "qrcode.to_pil(dark='darkred', light='lightblue', scale=5, border = 1)"
   ]
  },
  {
   "cell_type": "code",
   "execution_count": 12,
   "id": "44912106",
   "metadata": {},
   "outputs": [
    {
     "data": {
      "image/png": "[encoded data removed]",
      "text/plain": [
       "<PIL.PngImagePlugin.PngImageFile image mode=P size=155x155>"
      ]
     },
     "execution_count": 12,
     "metadata": {},
     "output_type": "execute_result"
    }
   ],
   "source": [
    "qrcode.to_pil(dark=\"yellow\", \n",
    "              light=\"#323524\", \n",
    "              scale=5,\n",
    "              border = 1)"
   ]
  },
  {
   "cell_type": "code",
   "execution_count": 13,
   "id": "eed52fe3",
   "metadata": {},
   "outputs": [
    {
     "data": {
      "image/png": "[encoded data removed]",
      "text/plain": [
       "<PIL.PngImagePlugin.PngImageFile image mode=P size=145x145>"
      ]
     },
     "execution_count": 13,
     "metadata": {},
     "output_type": "execute_result"
    }
   ],
   "source": [
    "# adjust the border\n",
    "\n",
    "qrcode.to_pil(dark='darkblue', data_dark='steelblue', scale=5,  border=0)"
   ]
  },
  {
   "cell_type": "code",
   "execution_count": 14,
   "id": "2637f4a8",
   "metadata": {},
   "outputs": [
    {
     "data": {
      "image/png": "[encoded data removed]",
      "text/plain": [
       "<PIL.PngImagePlugin.PngImageFile image mode=P size=111x111>"
      ]
     },
     "execution_count": 14,
     "metadata": {},
     "output_type": "execute_result"
    }
   ],
   "source": [
    "# change the colour of the dark and light data modules\n",
    "\n",
    "qrcode.to_pil(dark='orange', data_dark='pink', scale = 3)"
   ]
  },
  {
   "cell_type": "code",
   "execution_count": 15,
   "id": "32d700d8",
   "metadata": {},
   "outputs": [
    {
     "data": {
      "image/png": "[encoded data removed]",
      "text/plain": [
       "<PIL.PngImagePlugin.PngImageFile image mode=P size=111x111>"
      ]
     },
     "execution_count": 15,
     "metadata": {},
     "output_type": "execute_result"
    }
   ],
   "source": [
    "# change the colour of the dark and light data modules\n",
    "\n",
    "qrcode.to_pil(dark='orange', data_light ='pink', scale = 3)"
   ]
  },
  {
   "cell_type": "code",
   "execution_count": 16,
   "id": "5b5bd00e",
   "metadata": {},
   "outputs": [
    {
     "data": {
      "image/png": "[encoded data removed]",
      "text/plain": [
       "<PIL.PngImagePlugin.PngImageFile image mode=P size=185x185>"
      ]
     },
     "execution_count": 16,
     "metadata": {},
     "output_type": "execute_result"
    }
   ],
   "source": [
    "# change the colour of the dark and light data modules\n",
    "\n",
    "qrcode.to_pil(dark='orange', data_light ='pink', data_dark = 'blue', scale = 5)"
   ]
  },
  {
   "cell_type": "code",
   "execution_count": 17,
   "id": "b179a595",
   "metadata": {},
   "outputs": [
    {
     "data": {
      "image/jpeg": "[encoded data removed]",
      "image/png": "[encoded data removed]",
      "text/plain": [
       "<PIL.Image.Image image mode=1 size=37x37>"
      ]
     },
     "execution_count": 17,
     "metadata": {},
     "output_type": "execute_result"
    }
   ],
   "source": [
    "# rotate the qr code\n",
    "\n",
    "qrcode_rotated = qrcode.to_pil().rotate(45)\n",
    "qrcode_rotated"
   ]
  },
  {
   "cell_type": "code",
   "execution_count": 18,
   "id": "d4b72672",
   "metadata": {},
   "outputs": [
    {
     "data": {
      "image/jpeg": "[encoded data removed]",
      "image/png": "[encoded data removed]",
      "text/plain": [
       "<PIL.Image.Image image mode=1 size=53x53>"
      ]
     },
     "execution_count": 18,
     "metadata": {},
     "output_type": "execute_result"
    }
   ],
   "source": [
    "qrcode_rotated = qrcode.to_pil().rotate(45, expand = True)\n",
    "qrcode_rotated"
   ]
  },
  {
   "cell_type": "code",
   "execution_count": 19,
   "id": "0f89eb1e",
   "metadata": {},
   "outputs": [
    {
     "data": {
      "image/png": "[encoded data removed]",
      "text/plain": [
       "<PIL.Image.Image image mode=P size=157x157>"
      ]
     },
     "execution_count": 19,
     "metadata": {},
     "output_type": "execute_result"
    }
   ],
   "source": [
    "qrcode_rotated = qrcode.to_pil(scale = 3, \n",
    "                               light = 'blue',\n",
    "                               dark = 'yellow'\n",
    "                              ).rotate(45, expand = True)\n",
    "# qrcode_rotated.save(\"../images/rotated_qrcode.png\")\n",
    "qrcode_rotated"
   ]
  },
  {
   "cell_type": "code",
   "execution_count": 20,
   "id": "e85928af",
   "metadata": {},
   "outputs": [],
   "source": [
    "# create animated qr codes\n",
    "\n",
    "slts_qrcode = segno.make('https://www.youtube.com/watch?v=hTWKbfoikeg')"
   ]
  },
  {
   "cell_type": "code",
   "execution_count": 21,
   "id": "2e72e5d3",
   "metadata": {},
   "outputs": [],
   "source": [
    "# code to read unverified gifs\n",
    "\n",
    "import ssl\n",
    "ssl._create_default_https_context = ssl._create_unverified_context"
   ]
  },
  {
   "cell_type": "code",
   "execution_count": 22,
   "id": "b53e3d8f",
   "metadata": {},
   "outputs": [],
   "source": [
    "# nirvana url\n",
    "\n",
    "nirvana_url = urlopen('https://media.giphy.com/media/LpwBqCorPvZC0/giphy.gif')\n",
    "slts_qrcode.to_artistic(background=nirvana_url, \n",
    "                                 target='../images/slts.gif', \n",
    "                                 scale=7)\n"
   ]
  },
  {
   "cell_type": "code",
   "execution_count": 23,
   "id": "377ea3aa",
   "metadata": {},
   "outputs": [],
   "source": [
    "# beatles animated qr code\n",
    "# create a qr code with a youtube link\n",
    "come_together_qrcode = segno.make('https://www.youtube.com/watch?v=45cYwDMibGo')\n"
   ]
  },
  {
   "cell_type": "code",
   "execution_count": 24,
   "id": "bcc93c48",
   "metadata": {},
   "outputs": [],
   "source": [
    "# open a beatles themed giphy link of your choice\n",
    "\n",
    "abbey_road_url = urlopen('https://media.giphy.com/media/QpWDP1YMziaQw/giphy.gif')\n"
   ]
  },
  {
   "cell_type": "code",
   "execution_count": 25,
   "id": "20b59b3e",
   "metadata": {},
   "outputs": [],
   "source": [
    "# ONLY IF ABOVE CODE ERRORS, you may need to run this...\n",
    "# code to read unverified gifs\n",
    "\n",
    "import ssl\n",
    "ssl._create_default_https_context = ssl._create_unverified_context"
   ]
  },
  {
   "cell_type": "code",
   "execution_count": 26,
   "id": "2bf0e9ef",
   "metadata": {},
   "outputs": [],
   "source": [
    "# save this qr code to a location of your choice as specified in target\n",
    "\n",
    "come_together_qrcode.to_artistic(background=abbey_road_url, \n",
    "                                 target='../images/come_together.gif', \n",
    "                                 scale=7)"
   ]
  },
  {
   "cell_type": "code",
   "execution_count": 27,
   "id": "0023b933",
   "metadata": {},
   "outputs": [],
   "source": [
    "# make qr code \n",
    "\n",
    "qrcode_1 = segno.make(\"https://segno.readthedocs.io/en/latest/artistic-qrcodes.html\")\n",
    "image_url = urlopen('https://media.giphy.com/media/Gf5QiP1TWCO8qYKmt7/giphy.gif')\n",
    "\n",
    "qrcode_1.to_artistic(background=image_url, \n",
    "                                 target='../images/qr_animation.gif', \n",
    "                                 scale=7)\n"
   ]
  },
  {
   "cell_type": "code",
   "execution_count": null,
   "id": "c17b0ea5",
   "metadata": {},
   "outputs": [],
   "source": []
  }
 ],
 "metadata": {
  "kernelspec": {
   "display_name": "Python 3 (ipykernel)",
   "language": "python",
   "name": "python3"
  },
  "language_info": {
   "codemirror_mode": {
    "name": "ipython",
    "version": 3
   },
   "file_extension": ".py",
   "mimetype": "text/x-python",
   "name": "python",
   "nbconvert_exporter": "python",
   "pygments_lexer": "ipython3",
   "version": "3.12.3"
  }
 },
 "nbformat": 4,
 "nbformat_minor": 5
}
